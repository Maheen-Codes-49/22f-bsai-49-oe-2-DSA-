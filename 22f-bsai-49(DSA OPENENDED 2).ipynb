{
 "cells": [
  {
   "cell_type": "code",
   "execution_count": 1,
   "id": "ebd3a9f1-03a8-4dbc-960a-727848fc60b0",
   "metadata": {},
   "outputs": [
    {
     "name": "stdout",
     "output_type": "stream",
     "text": [
      "Longest Palindrome Length: 41\n",
      "Longest Palindrome: aheenssiiiddduu  rkgmsidq t3ylkfjbgkr  uudddiiissneeha\n"
     ]
    }
   ],
   "source": [
    "from collections import Counter\n",
    "\n",
    "def longestPalindrome(s: str) -> int:\n",
    "    # Count the frequency of each character in the string\n",
    "    freq = Counter(s)\n",
    "    \n",
    "    length = 0\n",
    "    odd_found = False\n",
    "    \n",
    "    for count in freq.values():\n",
    "        # Add the even part of each character count to the length\n",
    "        length += (count // 2) * 2\n",
    "        # If there's an odd count, we can put one character in the middle of the palindrome\n",
    "        if count % 2 == 1:\n",
    "            odd_found = True\n",
    "    \n",
    "    # If there's any odd count, we can place one character in the center of the palindrome\n",
    "    if odd_found:\n",
    "        length += 1\n",
    "    \n",
    "    # Generate the palindrome (for demonstration purposes)\n",
    "    half_palindrome = []\n",
    "    for char, count in freq.items():\n",
    "        half_palindrome.append(char * (count // 2))\n",
    "    \n",
    "    half_palindrome = ''.join(half_palindrome)\n",
    "    middle_char = ''.join([char for char, count in freq.items() if count % 2 == 1])\n",
    "    full_palindrome = half_palindrome + middle_char + half_palindrome[::-1]\n",
    "    \n",
    "    return length, full_palindrome\n",
    "\n",
    "\n",
    "s = \"maheensiddiqui studies in 3rd year lkdfhsidukgsiukdgjb\"\n",
    "length, palindrome = longestPalindrome(s)\n",
    "print(f\"Longest Palindrome Length: {length}\")\n",
    "print(f\"Longest Palindrome: {palindrome}\")\n"
   ]
  },
  {
   "cell_type": "code",
   "execution_count": null,
   "id": "1ac20461-2cfc-4bfe-ae2d-b15737d87b54",
   "metadata": {},
   "outputs": [],
   "source": []
  }
 ],
 "metadata": {
  "kernelspec": {
   "display_name": "Python [conda env:base] *",
   "language": "python",
   "name": "conda-base-py"
  },
  "language_info": {
   "codemirror_mode": {
    "name": "ipython",
    "version": 3
   },
   "file_extension": ".py",
   "mimetype": "text/x-python",
   "name": "python",
   "nbconvert_exporter": "python",
   "pygments_lexer": "ipython3",
   "version": "3.12.7"
  }
 },
 "nbformat": 4,
 "nbformat_minor": 5
}
